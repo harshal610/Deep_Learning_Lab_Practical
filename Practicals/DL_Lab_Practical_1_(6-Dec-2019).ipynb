{
 "cells": [
  {
   "cell_type": "code",
   "execution_count": 9,
   "metadata": {},
   "outputs": [
    {
     "name": "stdout",
     "output_type": "stream",
     "text": [
      "Enter String : Shakespeare gave the best theatrics to the world.\n",
      "Shakespeare gave the best theatrics to the world.\n"
     ]
    }
   ],
   "source": [
    "#Sample code for single line input\n",
    "str = input(\"Enter String : \")\n",
    "print(str)\n",
    "#Input : Shakespeare gave the best theatrics to the world."
   ]
  },
  {
   "cell_type": "code",
   "execution_count": 6,
   "metadata": {},
   "outputs": [
    {
     "name": "stdout",
     "output_type": "stream",
     "text": [
      "Manchester\n"
     ]
    }
   ],
   "source": [
    "#Sample code for List\n",
    "city = ['Paris', 'Vieana', 'London', 'Manchester', 'Amsterdam', 'Berlin', 'Glassgow', 'Rome', 'Barcelona', 'Lisbon']\n",
    "print(city[3])"
   ]
  },
  {
   "cell_type": "code",
   "execution_count": 10,
   "metadata": {},
   "outputs": [
    {
     "name": "stdout",
     "output_type": "stream",
     "text": [
      "['Paris', 'Vieana', 'London', 'Manchester', 'Amsterdam', 'Berlin', 'Glassgow', 'Rome', 'Barcelona', 'Lisbon']\n",
      "['Paris', 'Vieana', 'London', 'Manchester', 'Amsterdam', 'Berlin', 'Glassgow', 'Rome', 'Barcelona', 'Lisbon', 'Tuscany']\n",
      "['Paris', 'Vieana', 'Manchester', 'Amsterdam', 'Berlin', 'Glassgow', 'Rome', 'Barcelona', 'Lisbon', 'Tuscany']\n"
     ]
    }
   ],
   "source": [
    "#Sample code for List Operation\n",
    "city = ['Paris', 'Vieana', 'London', 'Manchester', 'Amsterdam', 'Berlin', 'Glassgow', 'Rome', 'Barcelona', 'Lisbon']\n",
    "print(city)\n",
    "#insert element in List\n",
    "city.append('Tuscany')\n",
    "print(city)\n",
    "#remove element from List\n",
    "city.remove('London')\n",
    "print(city)"
   ]
  },
  {
   "cell_type": "code",
   "execution_count": 8,
   "metadata": {},
   "outputs": [
    {
     "name": "stdout",
     "output_type": "stream",
     "text": [
      "William Shakespeare (bapt. 26 April 1564 – 23 April 1616)[a] was an English poet, playwright, and actor, widely regarded as the greatest writer in the English language and the world's greatest dramatist.[2][3][4] He is often called England's national poet and the \"Bard of Avon\" (or simply \"the Bard\").[5][b] His extant works, including collaborations, consist of some 39 plays,[c] 154 sonnets, two long narrative poems, and a few other verses, some of uncertain authorship. His plays have been translated into every major living language and are performed more often than those of any other playwright.[7]\n"
     ]
    }
   ],
   "source": [
    "#Sample code for take paragraph as input\n",
    "str1 = '''William Shakespeare (bapt. 26 April 1564 – 23 April 1616)[a] was an English poet, playwright, and actor, widely regarded as the greatest writer in the English language and the world's greatest dramatist.[2][3][4] He is often called England's national poet and the \"Bard of Avon\" (or simply \"the Bard\").[5][b] His extant works, including collaborations, consist of some 39 plays,[c] 154 sonnets, two long narrative poems, and a few other verses, some of uncertain authorship. His plays have been translated into every major living language and are performed more often than those of any other playwright.[7]'''\n",
    "print(str1)"
   ]
  },
  {
   "cell_type": "code",
   "execution_count": 20,
   "metadata": {},
   "outputs": [
    {
     "name": "stdout",
     "output_type": "stream",
     "text": [
      "{'Cricket': ['MSD', 'VK', 'Mithali Raj'], 'Badminton': ['P V Sindhu', 'Saina'], 'Tennis': 'Sania Mirza'}\n",
      "['MSD', 'VK', 'Mithali Raj']\n",
      "['P V Sindhu', 'Saina']\n",
      "Sania Mirza\n"
     ]
    }
   ],
   "source": [
    "#Sample code for Dictionary\n",
    "d = {'Cricket': ['MSD', 'VK', 'Mithali Raj'], 'Badminton' : ['P V Sindhu', 'Saina'], 'Tennis': 'Sania Mirza'}\n",
    "print(d)\n",
    "print(d['Cricket'])\n",
    "print(d['Badminton'])\n",
    "print(d['Tennis'])"
   ]
  },
  {
   "cell_type": "code",
   "execution_count": null,
   "metadata": {},
   "outputs": [],
   "source": []
  }
 ],
 "metadata": {
  "kernelspec": {
   "display_name": "Python 3",
   "language": "python",
   "name": "python3"
  },
  "language_info": {
   "codemirror_mode": {
    "name": "ipython",
    "version": 3
   },
   "file_extension": ".py",
   "mimetype": "text/x-python",
   "name": "python",
   "nbconvert_exporter": "python",
   "pygments_lexer": "ipython3",
   "version": "3.7.4"
  }
 },
 "nbformat": 4,
 "nbformat_minor": 2
}
