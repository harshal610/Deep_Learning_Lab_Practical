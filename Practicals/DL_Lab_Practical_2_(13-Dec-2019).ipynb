{
 "cells": [
  {
   "cell_type": "code",
   "execution_count": 1,
   "metadata": {},
   "outputs": [],
   "source": [
    "range?"
   ]
  },
  {
   "cell_type": "code",
   "execution_count": 10,
   "metadata": {},
   "outputs": [
    {
     "name": "stdout",
     "output_type": "stream",
     "text": [
      "Hello World.\n",
      "Hello World.\n",
      "Hello World.\n",
      "Hello World.\n",
      "Hello World.\n",
      "Hello World.\n",
      "Hello World.\n",
      "Hello World.\n",
      "Hello World.\n",
      "Hello World.\n"
     ]
    }
   ],
   "source": [
    "#Sample code for Range function\n",
    "#range(10) is work for 0 to 9\n",
    "for n in range(10):\n",
    "    print(\"Hello World.\")"
   ]
  },
  {
   "cell_type": "code",
   "execution_count": 16,
   "metadata": {},
   "outputs": [
    {
     "name": "stdout",
     "output_type": "stream",
     "text": [
      "cube of  1  is  1\n",
      "cube of  2  is  8\n",
      "cube of  3  is  27\n",
      "cube of  4  is  64\n",
      "cube of  5  is  125\n",
      "cube of  6  is  216\n",
      "cube of  7  is  343\n",
      "cube of  8  is  512\n",
      "cube of  9  is  729\n",
      "cube of  10  is  1000\n"
     ]
    }
   ],
   "source": [
    "#Sample code for Range function\n",
    "#range(1, 11) is work for 1 to 10\n",
    "for n in range(1, 11):\n",
    "    print('cube of ', n, ' is ', n**3)"
   ]
  },
  {
   "cell_type": "code",
   "execution_count": 17,
   "metadata": {},
   "outputs": [
    {
     "name": "stdout",
     "output_type": "stream",
     "text": [
      "cube of  1  is  1\n",
      "cube of  2  is  8\n",
      "cube of  3  is  27\n",
      "cube of  4  is  64\n",
      "cube of  5  is  125\n",
      "cube of  6  is  216\n",
      "cube of  7  is  343\n",
      "cube of  8  is  512\n",
      "cube of  9  is  729\n",
      "cube of  10  is  1000\n"
     ]
    }
   ],
   "source": [
    "#Sample code for while loop\n",
    "n=1\n",
    "while n<11:\n",
    "    print('cube of ', n, ' is ', n**3)\n",
    "    n = n+1"
   ]
  },
  {
   "cell_type": "code",
   "execution_count": 20,
   "metadata": {},
   "outputs": [
    {
     "name": "stdout",
     "output_type": "stream",
     "text": [
      "cube of  1  is  1\n",
      "cube of  3  is  27\n",
      "cube of  5  is  125\n",
      "cube of  7  is  343\n",
      "cube of  9  is  729\n"
     ]
    }
   ],
   "source": [
    "#Sample code for Step function in range\n",
    "#range(1, 11, 2) is work for 1 to 10 by incrementing 2 after all iterations\n",
    "for n in range(1, 11, 2):\n",
    "    print('cube of ', n, ' is ', n**3)"
   ]
  },
  {
   "cell_type": "code",
   "execution_count": 22,
   "metadata": {},
   "outputs": [
    {
     "name": "stdout",
     "output_type": "stream",
     "text": [
      "cube of  1  is  1\n",
      "cube of  2  is  8\n",
      "cube of  3  is  27\n",
      "cube of  4  is  64\n",
      "cube of  5  is  125\n",
      "cube of  6  is  216\n",
      "cube of  7  is  343\n",
      "cube of  8  is  512\n",
      "cube of  9  is  729\n",
      "cube of  10  is  1000\n",
      "Time needed for FOR Loop is  0.006746053695678711 \n",
      "\n",
      "cube of  1  is  1\n",
      "cube of  2  is  8\n",
      "cube of  3  is  27\n",
      "cube of  4  is  64\n",
      "cube of  5  is  125\n",
      "cube of  6  is  216\n",
      "cube of  7  is  343\n",
      "cube of  8  is  512\n",
      "cube of  9  is  729\n",
      "cube of  10  is  1000\n",
      "Time needed for WHILE Loop is  0.004650115966796875\n"
     ]
    }
   ],
   "source": [
    "#Performance Comparision between range function and simple increment operation for loop iteration\n",
    "import time\n",
    "#Calculate time for range function\n",
    "s_time = time.time()\n",
    "for n in range(1, 11):\n",
    "    print('cube of ', n, ' is ', n**3)\n",
    "e_time = time.time()\n",
    "print('Time needed for FOR Loop is ', e_time-s_time, '\\n')\n",
    "\n",
    "#Calculate time for simple increment operator\n",
    "s_time = time.time()\n",
    "n=1\n",
    "while n<11:\n",
    "    print('cube of ', n, ' is ', n**3)\n",
    "    n = n+1\n",
    "e_time = time.time()\n",
    "print('Time needed for WHILE Loop is ', e_time-s_time)\n",
    "#Conclusion : The loop with range function takes more time than loop with simple increment operator."
   ]
  },
  {
   "cell_type": "code",
   "execution_count": 24,
   "metadata": {},
   "outputs": [
    {
     "name": "stdout",
     "output_type": "stream",
     "text": [
      "Enter Number : 9\n",
      "Cube of  9  is  729\n"
     ]
    }
   ],
   "source": [
    "#Defining function for find the cube of number\n",
    "def cubicFunc(n):\n",
    "    return n**3\n",
    "\n",
    "num = int(input(\"Enter Number : \"))\n",
    "print('Cube of ', num, ' is ', cubicFunc(num))"
   ]
  },
  {
   "cell_type": "code",
   "execution_count": 1,
   "metadata": {},
   "outputs": [
    {
     "name": "stdout",
     "output_type": "stream",
     "text": [
      "Enter Number : 16\n"
     ]
    },
    {
     "ename": "NameError",
     "evalue": "name 'm' is not defined",
     "output_type": "error",
     "traceback": [
      "\u001b[1;31m---------------------------------------------------------------------------\u001b[0m",
      "\u001b[1;31mNameError\u001b[0m                                 Traceback (most recent call last)",
      "\u001b[1;32m<ipython-input-1-7254834c0d16>\u001b[0m in \u001b[0;36m<module>\u001b[1;34m\u001b[0m\n\u001b[0;32m      1\u001b[0m \u001b[1;31m#Square Root of Number\u001b[0m\u001b[1;33m\u001b[0m\u001b[1;33m\u001b[0m\u001b[1;33m\u001b[0m\u001b[0m\n\u001b[0;32m      2\u001b[0m \u001b[0mnum\u001b[0m \u001b[1;33m=\u001b[0m \u001b[0mint\u001b[0m\u001b[1;33m(\u001b[0m\u001b[0minput\u001b[0m\u001b[1;33m(\u001b[0m\u001b[1;34m\"Enter Number : \"\u001b[0m\u001b[1;33m)\u001b[0m\u001b[1;33m)\u001b[0m\u001b[1;33m\u001b[0m\u001b[1;33m\u001b[0m\u001b[0m\n\u001b[1;32m----> 3\u001b[1;33m \u001b[0mprint\u001b[0m\u001b[1;33m(\u001b[0m\u001b[1;34m'Square Root of '\u001b[0m\u001b[1;33m,\u001b[0m \u001b[0mnum\u001b[0m\u001b[1;33m,\u001b[0m \u001b[1;34m' is '\u001b[0m\u001b[1;33m,\u001b[0m \u001b[0mm\u001b[0m\u001b[1;33m.\u001b[0m\u001b[0msqrt\u001b[0m\u001b[1;33m(\u001b[0m\u001b[0mnum\u001b[0m\u001b[1;33m)\u001b[0m\u001b[1;33m)\u001b[0m\u001b[1;33m\u001b[0m\u001b[1;33m\u001b[0m\u001b[0m\n\u001b[0m\u001b[0;32m      4\u001b[0m \u001b[1;33m\u001b[0m\u001b[0m\n\u001b[0;32m      5\u001b[0m \u001b[1;31m#Ceiling and Floor value of Number\u001b[0m\u001b[1;33m\u001b[0m\u001b[1;33m\u001b[0m\u001b[1;33m\u001b[0m\u001b[0m\n",
      "\u001b[1;31mNameError\u001b[0m: name 'm' is not defined"
     ]
    }
   ],
   "source": [
    "'''Jupyter Notebook gives error when import math is not written when we restart the jupyter notebook......\n",
    "    Otherwise it will not give error because it saves checkpoints.......'''\n",
    "#Square Root of Number\n",
    "num = int(input(\"Enter Number : \"))\n",
    "print('Square Root of ', num, ' is ', m.sqrt(num))\n",
    "\n",
    "#Ceiling and Floor value of Number\n",
    "num = float(input(\"\\nEnter float Number : \"))\n",
    "print('Ceiling Value of ', num, ' is ', m.ceil(num))\n",
    "print('Floor Value of ', num, ' is ', m.floor(num))\n",
    "\n",
    "#Factorial of Number\n",
    "num = int(input(\"Enter Number : \"))\n",
    "print('Factorial of ', num, ' is ', m.factorial(num))\n",
    "\n",
    "#GCD of Two Numbers\n",
    "num1 = int(input(\"Enter number 1 : \"))\n",
    "num2 = int(input(\"Enter number 2 : \"))\n",
    "print('GCD of ', num1, ' and ', num2, ' is ', m.gcd(num1,num2))"
   ]
  },
  {
   "cell_type": "code",
   "execution_count": 1,
   "metadata": {},
   "outputs": [
    {
     "name": "stdout",
     "output_type": "stream",
     "text": [
      "\n",
      "Enter Number : 16\n",
      "Square Root of  16  is  4.0\n",
      "\n",
      "Enter float Number : 13.7\n",
      "Ceiling Value of  13.7  is  14\n",
      "Floor Value of  13.7  is  13\n",
      "\n",
      "Enter Number : 5\n",
      "Factorial of  5  is  120\n",
      "\n",
      "Enter number 1 : 4\n",
      "Enter number 2 : 12\n",
      "GCD of  4  and  12  is  4\n"
     ]
    }
   ],
   "source": [
    "#Sample code for use of math function\n",
    "import math as m\n",
    "#Square Root of Number\n",
    "num = int(input(\"\\nEnter Number : \"))\n",
    "print('Square Root of ', num, ' is ', m.sqrt(num))\n",
    "\n",
    "#Ceiling and Floor value of Number\n",
    "num = float(input(\"\\nEnter float Number : \"))\n",
    "print('Ceiling Value of ', num, ' is ', m.ceil(num))\n",
    "print('Floor Value of ', num, ' is ', m.floor(num))\n",
    "\n",
    "#Factorial of Number\n",
    "num = int(input(\"\\nEnter Number : \"))\n",
    "print('Factorial of ', num, ' is ', m.factorial(num))\n",
    "\n",
    "#GCD of Two Numbers\n",
    "num1 = int(input(\"\\nEnter number 1 : \"))\n",
    "num2 = int(input(\"Enter number 2 : \"))\n",
    "print('GCD of ', num1, ' and ', num2, ' is ', m.gcd(num1,num2))"
   ]
  },
  {
   "cell_type": "code",
   "execution_count": null,
   "metadata": {},
   "outputs": [],
   "source": []
  }
 ],
 "metadata": {
  "kernelspec": {
   "display_name": "Python 3",
   "language": "python",
   "name": "python3"
  },
  "language_info": {
   "codemirror_mode": {
    "name": "ipython",
    "version": 3
   },
   "file_extension": ".py",
   "mimetype": "text/x-python",
   "name": "python",
   "nbconvert_exporter": "python",
   "pygments_lexer": "ipython3",
   "version": "3.7.4"
  }
 },
 "nbformat": 4,
 "nbformat_minor": 2
}
